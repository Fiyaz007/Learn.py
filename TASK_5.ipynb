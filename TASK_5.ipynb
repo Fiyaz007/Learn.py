{
  "nbformat": 4,
  "nbformat_minor": 0,
  "metadata": {
    "colab": {
      "name": "TASK 5.ipynb",
      "provenance": []
    },
    "kernelspec": {
      "name": "python3",
      "display_name": "Python 3"
    },
    "language_info": {
      "name": "python"
    }
  },
  "cells": [
    {
      "cell_type": "markdown",
      "metadata": {
        "id": "Gu_sxK-id8Zw"
      },
      "source": [
        "1.Given a list l=[23, 45, 25 ,78, 90, 45, 22, 56, 99, 12, 9, 75, 32]\n",
        "\n",
        "Write a single line program to display.\n",
        "\n",
        "a) elements at even index in the list.\n",
        "\n",
        "b) remove the 3 middle elements (45, 22 and 56)"
      ]
    },
    {
      "cell_type": "code",
      "metadata": {
        "id": "hiAZt40tgbu8",
        "colab": {
          "base_uri": "https://localhost:8080/"
        },
        "outputId": "6cdac18d-cd25-41fb-fe92-bfa03ee7a6bd"
      },
      "source": [
        "#please write the code below this line\n",
        "l = [23,45,25,78,90,45,22,56,99,12,9,75,32]\n",
        "for i in range(0,13,2):\n",
        "  print(l[i])\n",
        "del l[5:8]\n",
        "print(l)"
      ],
      "execution_count": 1,
      "outputs": [
        {
          "output_type": "stream",
          "text": [
            "23\n",
            "25\n",
            "90\n",
            "22\n",
            "99\n",
            "9\n",
            "32\n",
            "[23, 45, 25, 78, 90, 99, 12, 9, 75, 32]\n"
          ],
          "name": "stdout"
        }
      ]
    },
    {
      "cell_type": "markdown",
      "metadata": {
        "id": "EyjCDxcygv2C"
      },
      "source": [
        "2.Given a list lowerCase=['a', 'e', 'i', 'o', 'u']\n",
        "Create a new list upperCase using list comprehension and copy the content of the lowerCase list, but in uppercase (capital letters). (upperCase should be ['A', 'E', 'I', 'O', 'U'])"
      ]
    },
    {
      "cell_type": "code",
      "metadata": {
        "id": "-HhhWi7jhGIj",
        "colab": {
          "base_uri": "https://localhost:8080/"
        },
        "outputId": "42776151-d6ff-4180-8bc9-a216ddf16c54"
      },
      "source": [
        "#please write the code below this line\n",
        "lower = ['a', 'e', 'i', 'o', 'u']\n",
        "uppers = []\n",
        "for i in range(0,5):\n",
        "  temp = lower[i]\n",
        "  uppers.insert(i,temp.upper())\n",
        "print(uppers)"
      ],
      "execution_count": 2,
      "outputs": [
        {
          "output_type": "stream",
          "text": [
            "['A', 'E', 'I', 'O', 'U']\n"
          ],
          "name": "stdout"
        }
      ]
    },
    {
      "cell_type": "markdown",
      "metadata": {
        "id": "YkTzwuJphPxV"
      },
      "source": [
        "3.Given a tuple fruits = (\"banana\", \"cherry\", \"apple\", \"grapes\")\n",
        "Create 3 variables yellow, red and green and assign them with fruits of their respective color.\n",
        "(yellow=\"banana\", red=[\"cherry\", \"apple\"], green=\"grapes (hint- Use unpacking)"
      ]
    },
    {
      "cell_type": "code",
      "metadata": {
        "id": "cSaKkX2mh33Q",
        "colab": {
          "base_uri": "https://localhost:8080/"
        },
        "outputId": "0389a4c1-905e-4ea3-fda4-cb5d9ea7a480"
      },
      "source": [
        "#please write the code below this line\n",
        "fruits = [\"banana\", \"cherry\", \"apple\", \"grapes\"]\n",
        "(yellow,*red,green) = fruits\n",
        "print(yellow)\n",
        "print(red)\n",
        "print(green)"
      ],
      "execution_count": 3,
      "outputs": [
        {
          "output_type": "stream",
          "text": [
            "banana\n",
            "['cherry', 'apple']\n",
            "grapes\n"
          ],
          "name": "stdout"
        }
      ]
    }
  ]
}