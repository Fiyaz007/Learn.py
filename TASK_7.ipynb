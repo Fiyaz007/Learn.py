{
  "nbformat": 4,
  "nbformat_minor": 0,
  "metadata": {
    "colab": {
      "name": "TASK  7.ipynb",
      "provenance": []
    },
    "kernelspec": {
      "name": "python3",
      "display_name": "Python 3"
    },
    "language_info": {
      "name": "python"
    }
  },
  "cells": [
    {
      "cell_type": "markdown",
      "metadata": {
        "id": "b0V3vwzcydKy"
      },
      "source": [
        "1. Write a program to check whether a  string is palindrome or not using functions. \n",
        "\n",
        "   ( A function is to be created to check whether the string is palindrome and it should give the output true or false to the main program)"
      ]
    },
    {
      "cell_type": "code",
      "metadata": {
        "id": "M2Mi7EOdyxiu",
        "colab": {
          "base_uri": "https://localhost:8080/"
        },
        "outputId": "02b00d9d-0224-4820-c698-2fff16173bdf"
      },
      "source": [
        "#please enter the code below this line.\n",
        "my_str = str(input(\"Enter the string you want to check \"))\n",
        "\n",
        "my_str = my_str.casefold()\n",
        "\n",
        "rev_str = reversed(my_str)\n",
        "\n",
        "\n",
        "if list(my_str) == list(rev_str):\n",
        "   print(\"True.\")\n",
        "else:\n",
        "   print(\"False.\")"
      ],
      "execution_count": 1,
      "outputs": [
        {
          "output_type": "stream",
          "text": [
            "Enter the string you want to check MALAYALAM\n",
            "True.\n"
          ],
          "name": "stdout"
        }
      ]
    },
    {
      "cell_type": "markdown",
      "metadata": {
        "id": "vSiShTyOzEz-"
      },
      "source": [
        "2.  Write a menu driven program to find largest element in L, smallest element, avg of all values, sum of all values in L. All these operation should be performed in different functions and the result should be returned.\n",
        "\n",
        "\n",
        "      L=[23,24,11,90,1,41,9,99,28,56,72]"
      ]
    },
    {
      "cell_type": "code",
      "metadata": {
        "id": "fRtMIw_CzsmO",
        "colab": {
          "base_uri": "https://localhost:8080/"
        },
        "outputId": "f8b5c3f3-3db2-470b-abd5-7ac58acedb13"
      },
      "source": [
        "#please enter the code below this line.\n",
        "def largest(L,n):\n",
        "  temp = 1;\n",
        "  for i in range(0,n):\n",
        "    if (L[i]>temp):\n",
        "      temp=L[i]\n",
        "  return temp\n",
        "\n",
        "def smallest(L,n):\n",
        "  temp = 1;\n",
        "  for i in range(0,n):\n",
        "    if (L[i]<temp):\n",
        "      temp=L[i]\n",
        "  return temp\n",
        "\n",
        "def sum(L,n):\n",
        "  temp=1;\n",
        "  for i in range(0,n):\n",
        "    temp = temp + L[i]\n",
        "  return temp\n",
        "\n",
        "def avg(L,n):\n",
        "  temp=1;\n",
        "  for i in range(0,n):\n",
        "    temp = temp + L[i]\n",
        "  av = temp/n\n",
        "  return av\n",
        "\n",
        "L = [1, 2, 3, 4, 5, 5, 6, 7]\n",
        "n = len(L)\n",
        "print(largest(L, n))\n",
        "print(smallest(L, n))\n",
        "print(sum(L, n))\n",
        "print(avg(L, n))"
      ],
      "execution_count": 2,
      "outputs": [
        {
          "output_type": "stream",
          "text": [
            "7\n",
            "1\n",
            "34\n",
            "4.25\n"
          ],
          "name": "stdout"
        }
      ]
    }
  ]
}