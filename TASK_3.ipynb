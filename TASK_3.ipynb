{
  "nbformat": 4,
  "nbformat_minor": 0,
  "metadata": {
    "colab": {
      "name": "TASK 3.ipynb",
      "provenance": [],
      "collapsed_sections": []
    },
    "kernelspec": {
      "name": "python3",
      "display_name": "Python 3"
    },
    "language_info": {
      "name": "python"
    }
  },
  "cells": [
    {
      "cell_type": "markdown",
      "metadata": {
        "id": "z20IIB0eUQMN"
      },
      "source": [
        "1 - Write a program which takes a number as input from the user and check whether the number is odd or even.If odd print the number is odd if not print it is even."
      ]
    },
    {
      "cell_type": "code",
      "metadata": {
        "id": "dVgGJ-wTVRit",
        "colab": {
          "base_uri": "https://localhost:8080/"
        },
        "outputId": "a8cc2653-72ce-4848-bc23-3878f178b71d"
      },
      "source": [
        "#please enter your answer below this line\n",
        "a = int(input(\"Enter a number \"))\n",
        "if (a%2)==0:\n",
        "   print(\"The number you entered is even\")\n",
        "else:\n",
        "   print(\"The number you entered is odd\") "
      ],
      "execution_count": null,
      "outputs": [
        {
          "output_type": "stream",
          "text": [
            "Enter a number 77\n",
            "The number you entered is odd\n"
          ],
          "name": "stdout"
        }
      ]
    },
    {
      "cell_type": "markdown",
      "metadata": {
        "id": "7778XD8PVblj"
      },
      "source": [
        "2 -Write a program to find the largest among three numbers and print the largest number."
      ]
    },
    {
      "cell_type": "code",
      "metadata": {
        "id": "m0tUOkOFWR-d",
        "colab": {
          "base_uri": "https://localhost:8080/"
        },
        "outputId": "31340e76-ac06-4cd8-f235-a16eda814952"
      },
      "source": [
        "#please enter your answer below this line\n",
        "a = int(input(\"Enter the 1st number: \"))\n",
        "b = int(input(\"Enter the 2nd number: \"))\n",
        "c = int(input(\"Enter the 3rd number: \"))\n",
        "if (a >= b) and (a >= c):\n",
        "   largest = a1\n",
        "elif (b >= a) and (b >= c):\n",
        "   largest = b\n",
        "else:\n",
        "   largest = c\n",
        "print(\"The largest number is\", largest)"
      ],
      "execution_count": null,
      "outputs": [
        {
          "output_type": "stream",
          "text": [
            "Enter the 1st number: 7\n",
            "Enter the 2nd number: 77\n",
            "Enter the 3rd number: 17\n",
            "The largest number is 77\n"
          ],
          "name": "stdout"
        }
      ]
    },
    {
      "cell_type": "markdown",
      "metadata": {
        "id": "Jg2Ns4OQWaJy"
      },
      "source": [
        "3 -Write a function to prompt for a score between 0.0 and 1.0.\n",
        "\n",
        "    If the score is out of range, print an error.\n",
        "    If the score is between 0.0 and 1.0, print a grade using the following table:\n",
        "    Score Grade\n",
        "             Score\tGrade\n",
        "            >= 0.9\tA\n",
        "            >= 0.8\tB\n",
        "            >= 0.7\tC\n",
        "            >= 0.6\tD\n",
        "             < 0.6\tF\n",
        "If the user enters a value out of range, print a suitable error message and exit. For the test, enter a score of 0.85."
      ]
    },
    {
      "cell_type": "code",
      "metadata": {
        "id": "6DLbGe6XXZPx",
        "colab": {
          "base_uri": "https://localhost:8080/",
          "height": 0
        },
        "outputId": "01a93f3e-7d2f-40c7-e61b-daeaf13099fe"
      },
      "source": [
        "#please enter your answer below this line\n",
        "s = float(input(\"Enter the score between 0.0 and 1.0\"))\n",
        "if (s<=1.0) and (s>=0.9):\n",
        "   print(\"The grade is A\")\n",
        "elif (s>=0.8) and (s<0.9):\n",
        "   print(\"The grade is B\")\n",
        "elif (s>=0.7) and (s<0.8):\n",
        "   print(\"The grade is C\")\n",
        "elif (s>=0.6) and (s<0.7):\n",
        "   print(\"The grade is D\")\n",
        "elif (s<0.6):\n",
        "   print(\"The grade is F\")\n",
        "else:\n",
        "   print(\"Wrong Entry!\")"
      ],
      "execution_count": 4,
      "outputs": [
        {
          "output_type": "stream",
          "text": [
            "Enter the score between 0.0 and 1.01.8\n",
            "Wrong Entry!\n"
          ],
          "name": "stdout"
        }
      ]
    },
    {
      "cell_type": "markdown",
      "metadata": {
        "id": "-o0scDq7WkVT"
      },
      "source": [
        ""
      ]
    }
  ]
}