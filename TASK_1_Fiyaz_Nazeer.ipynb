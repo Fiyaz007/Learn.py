{
  "nbformat": 4,
  "nbformat_minor": 0,
  "metadata": {
    "colab": {
      "name": "TASK 1-Fiyaz Nazeer",
      "provenance": [],
      "collapsed_sections": []
    },
    "kernelspec": {
      "name": "python3",
      "display_name": "Python 3"
    },
    "language_info": {
      "name": "python"
    }
  },
  "cells": [
    {
      "cell_type": "markdown",
      "metadata": {
        "id": "q-yWxfWESiQo"
      },
      "source": [
        "1.Write a program that uses input to prompt a user for their name and then welcomes them."
      ]
    },
    {
      "cell_type": "code",
      "metadata": {
        "id": "9ikpRxqMSxu0"
      },
      "source": [
        "#please provide your answer here below this line\n"
      ],
      "execution_count": null,
      "outputs": []
    },
    {
      "cell_type": "code",
      "metadata": {
        "colab": {
          "base_uri": "https://localhost:8080/"
        },
        "id": "cQzmCi27QxTM",
        "outputId": "68164dd6-21ca-4d46-8f57-deb30ff43a30"
      },
      "source": [
        "Name = input(\"Enter your good name: \")\n",
        "print(\"Hi \"+ Name +\" Welcome to LEARN.PY\") "
      ],
      "execution_count": null,
      "outputs": [
        {
          "output_type": "stream",
          "text": [
            "Enter your good name: FIYAZ NAZEER\n",
            "Hi FIYAZ NAZEER Welcome to LEARN.PY\n"
          ],
          "name": "stdout"
        }
      ]
    },
    {
      "cell_type": "markdown",
      "metadata": {
        "id": "Ay5OdxguS-2Z"
      },
      "source": [
        "2.Write a program which prompts the user for a Celsius temperature, convert the temperature to Fahrenheit, and print out the converted temperature."
      ]
    },
    {
      "cell_type": "code",
      "metadata": {
        "id": "MMv2yWNtTgEu"
      },
      "source": [
        "#please provide your answer here below this line\n"
      ],
      "execution_count": null,
      "outputs": []
    },
    {
      "cell_type": "code",
      "metadata": {
        "id": "nscvyWSZQplk",
        "colab": {
          "base_uri": "https://localhost:8080/"
        },
        "outputId": "de3175ca-89a4-4a94-f92c-7b4a9c0b91c6"
      },
      "source": [
        "Celsius = float(input(\"Enter the temperature in Celsius:\"))\n",
        "Fahrenheit = float(Celsius*9/5+32)\n",
        "print(str(Celsius) + \" degrees celsius = \" + str(Fahrenheit) + \" degrees fahrenheit\")"
      ],
      "execution_count": 3,
      "outputs": [
        {
          "output_type": "stream",
          "text": [
            "Enter the temperature in Celsius:77\n",
            "77.0 degrees celsius = 170.6 degrees fahrenheit\n"
          ],
          "name": "stdout"
        }
      ]
    },
    {
      "cell_type": "markdown",
      "metadata": {
        "id": "v6O1a198TpNd"
      },
      "source": [
        "3.Write a Python program to convert degree to radian."
      ]
    },
    {
      "cell_type": "code",
      "metadata": {
        "id": "27Jj4_D0UQBA"
      },
      "source": [
        "#please provide your answer here below this line\n"
      ],
      "execution_count": null,
      "outputs": []
    },
    {
      "cell_type": "code",
      "metadata": {
        "colab": {
          "base_uri": "https://localhost:8080/"
        },
        "id": "U5xvFPdpAMNt",
        "outputId": "8d138161-b040-44db-b26f-a5990ce41d79"
      },
      "source": [
        "Degree = float(input(\"Enter the measurement in degrees\"))\n",
        "Radian = float(Degree*(22/7)/180)\n",
        "print(str(Degree) + \"Deg = \" + str(Radian) + \"Rad\")"
      ],
      "execution_count": 4,
      "outputs": [
        {
          "output_type": "stream",
          "text": [
            "Enter the measurement in degrees17\n",
            "17.0Deg = 0.2968253968253968Rad\n"
          ],
          "name": "stdout"
        }
      ]
    }
  ]
}